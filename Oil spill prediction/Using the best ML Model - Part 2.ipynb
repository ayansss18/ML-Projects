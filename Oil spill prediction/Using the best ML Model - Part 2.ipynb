{
 "cells": [
  {
   "cell_type": "code",
   "execution_count": 1,
   "id": "bbe52b37",
   "metadata": {},
   "outputs": [
    {
     "name": "stderr",
     "output_type": "stream",
     "text": [
      "C:\\Users\\Ayan\\anaconda3\\lib\\site-packages\\scipy\\__init__.py:155: UserWarning: A NumPy version >=1.18.5 and <1.25.0 is required for this version of SciPy (detected version 1.26.4\n",
      "  warnings.warn(f\"A NumPy version >={np_minversion} and <{np_maxversion}\"\n"
     ]
    }
   ],
   "source": [
    "import pandas as pd\n",
    "import joblib\n",
    "from sklearn.metrics import accuracy_score, precision_score, recall_score, f1_score, roc_auc_score, roc_curve\n"
   ]
  },
  {
   "cell_type": "code",
   "execution_count": 2,
   "id": "773a5482",
   "metadata": {},
   "outputs": [],
   "source": [
    "df=pd.read_csv(\"oil_spill.csv\")"
   ]
  },
  {
   "cell_type": "code",
   "execution_count": 3,
   "id": "36458187",
   "metadata": {},
   "outputs": [],
   "source": [
    "sample_df = df.sample(n=20, random_state=1)"
   ]
  },
  {
   "cell_type": "code",
   "execution_count": 4,
   "id": "53234c8c",
   "metadata": {},
   "outputs": [],
   "source": [
    "x_sample = sample_df.drop('target', axis=1)\n",
    "y_sample = sample_df['target']"
   ]
  },
  {
   "cell_type": "code",
   "execution_count": 5,
   "id": "1145155f",
   "metadata": {},
   "outputs": [],
   "source": [
    "model3 = joblib.load('model3.pkl')"
   ]
  },
  {
   "cell_type": "code",
   "execution_count": 6,
   "id": "4f76b096",
   "metadata": {},
   "outputs": [
    {
     "name": "stderr",
     "output_type": "stream",
     "text": [
      "C:\\Users\\Ayan\\anaconda3\\lib\\site-packages\\sklearn\\utils\\validation.py:623: FutureWarning: is_sparse is deprecated and will be removed in a future version. Check `isinstance(dtype, pd.SparseDtype)` instead.\n",
      "  if not hasattr(array, \"sparse\") and array.dtypes.apply(is_sparse).any():\n"
     ]
    }
   ],
   "source": [
    "predictions=model3.predict(x_sample)"
   ]
  },
  {
   "cell_type": "code",
   "execution_count": 7,
   "id": "957e5093",
   "metadata": {},
   "outputs": [],
   "source": [
    "accuracy = accuracy_score(y_sample, predictions)\n",
    "precision = precision_score(y_sample, predictions)\n",
    "recall = recall_score(y_sample, predictions)\n",
    "f1 = f1_score(y_sample, predictions)"
   ]
  },
  {
   "cell_type": "code",
   "execution_count": 8,
   "id": "3c3822d7",
   "metadata": {},
   "outputs": [
    {
     "name": "stdout",
     "output_type": "stream",
     "text": [
      "Accuracy: 95%\n",
      "Precision: 50%\n",
      "Recall: 100%\n",
      "F1 Score: 67%\n"
     ]
    }
   ],
   "source": [
    "print(f'Accuracy: {accuracy*100:.0f}%')\n",
    "print(f'Precision: {precision*100:.0f}%')\n",
    "print(f'Recall: {recall*100:.0f}%')\n",
    "print(f'F1 Score: {f1*100:.0f}%')"
   ]
  },
  {
   "cell_type": "raw",
   "id": "d137fdc8",
   "metadata": {},
   "source": [
    "Here, I have successfully used the model 3, gradient boosting algorithm"
   ]
  },
  {
   "cell_type": "code",
   "execution_count": null,
   "id": "2d84145a",
   "metadata": {},
   "outputs": [],
   "source": []
  },
  {
   "cell_type": "code",
   "execution_count": null,
   "id": "f99dac33",
   "metadata": {},
   "outputs": [],
   "source": []
  },
  {
   "cell_type": "code",
   "execution_count": null,
   "id": "38890272",
   "metadata": {},
   "outputs": [],
   "source": []
  }
 ],
 "metadata": {
  "kernelspec": {
   "display_name": "Python 3 (ipykernel)",
   "language": "python",
   "name": "python3"
  },
  "language_info": {
   "codemirror_mode": {
    "name": "ipython",
    "version": 3
   },
   "file_extension": ".py",
   "mimetype": "text/x-python",
   "name": "python",
   "nbconvert_exporter": "python",
   "pygments_lexer": "ipython3",
   "version": "3.9.13"
  }
 },
 "nbformat": 4,
 "nbformat_minor": 5
}
