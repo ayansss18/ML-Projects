{
 "cells": [
  {
   "cell_type": "markdown",
   "id": "6083cfa3",
   "metadata": {},
   "source": [
    "***It is not like I have run all the code for the first time as they are starting from 1, but because I have used Restart and\n",
    "Run all from the kernal several times. Thank You.***"
   ]
  },
  {
   "cell_type": "code",
   "execution_count": 1,
   "id": "86342ce8",
   "metadata": {},
   "outputs": [],
   "source": [
    "import pandas as pd\n",
    "import matplotlib.pyplot as plt"
   ]
  },
  {
   "cell_type": "code",
   "execution_count": 2,
   "id": "4024a3a7",
   "metadata": {
    "scrolled": false
   },
   "outputs": [
    {
     "data": {
      "text/html": [
       "<div>\n",
       "<style scoped>\n",
       "    .dataframe tbody tr th:only-of-type {\n",
       "        vertical-align: middle;\n",
       "    }\n",
       "\n",
       "    .dataframe tbody tr th {\n",
       "        vertical-align: top;\n",
       "    }\n",
       "\n",
       "    .dataframe thead th {\n",
       "        text-align: right;\n",
       "    }\n",
       "</style>\n",
       "<table border=\"1\" class=\"dataframe\">\n",
       "  <thead>\n",
       "    <tr style=\"text-align: right;\">\n",
       "      <th></th>\n",
       "      <th>step</th>\n",
       "      <th>type</th>\n",
       "      <th>amount</th>\n",
       "      <th>nameOrig</th>\n",
       "      <th>oldbalanceOrg</th>\n",
       "      <th>newbalanceOrig</th>\n",
       "      <th>nameDest</th>\n",
       "      <th>oldbalanceDest</th>\n",
       "      <th>newbalanceDest</th>\n",
       "      <th>isFraud</th>\n",
       "      <th>isFlaggedFraud</th>\n",
       "    </tr>\n",
       "  </thead>\n",
       "  <tbody>\n",
       "    <tr>\n",
       "      <th>0</th>\n",
       "      <td>1</td>\n",
       "      <td>PAYMENT</td>\n",
       "      <td>9839.64</td>\n",
       "      <td>C1231006815</td>\n",
       "      <td>170136.0</td>\n",
       "      <td>160296.36</td>\n",
       "      <td>M1979787155</td>\n",
       "      <td>0.0</td>\n",
       "      <td>0.0</td>\n",
       "      <td>0</td>\n",
       "      <td>0</td>\n",
       "    </tr>\n",
       "    <tr>\n",
       "      <th>1</th>\n",
       "      <td>1</td>\n",
       "      <td>PAYMENT</td>\n",
       "      <td>1864.28</td>\n",
       "      <td>C1666544295</td>\n",
       "      <td>21249.0</td>\n",
       "      <td>19384.72</td>\n",
       "      <td>M2044282225</td>\n",
       "      <td>0.0</td>\n",
       "      <td>0.0</td>\n",
       "      <td>0</td>\n",
       "      <td>0</td>\n",
       "    </tr>\n",
       "    <tr>\n",
       "      <th>2</th>\n",
       "      <td>1</td>\n",
       "      <td>TRANSFER</td>\n",
       "      <td>181.00</td>\n",
       "      <td>C1305486145</td>\n",
       "      <td>181.0</td>\n",
       "      <td>0.00</td>\n",
       "      <td>C553264065</td>\n",
       "      <td>0.0</td>\n",
       "      <td>0.0</td>\n",
       "      <td>1</td>\n",
       "      <td>0</td>\n",
       "    </tr>\n",
       "    <tr>\n",
       "      <th>3</th>\n",
       "      <td>1</td>\n",
       "      <td>CASH_OUT</td>\n",
       "      <td>181.00</td>\n",
       "      <td>C840083671</td>\n",
       "      <td>181.0</td>\n",
       "      <td>0.00</td>\n",
       "      <td>C38997010</td>\n",
       "      <td>21182.0</td>\n",
       "      <td>0.0</td>\n",
       "      <td>1</td>\n",
       "      <td>0</td>\n",
       "    </tr>\n",
       "    <tr>\n",
       "      <th>4</th>\n",
       "      <td>1</td>\n",
       "      <td>PAYMENT</td>\n",
       "      <td>11668.14</td>\n",
       "      <td>C2048537720</td>\n",
       "      <td>41554.0</td>\n",
       "      <td>29885.86</td>\n",
       "      <td>M1230701703</td>\n",
       "      <td>0.0</td>\n",
       "      <td>0.0</td>\n",
       "      <td>0</td>\n",
       "      <td>0</td>\n",
       "    </tr>\n",
       "  </tbody>\n",
       "</table>\n",
       "</div>"
      ],
      "text/plain": [
       "   step      type    amount     nameOrig  oldbalanceOrg  newbalanceOrig  \\\n",
       "0     1   PAYMENT   9839.64  C1231006815       170136.0       160296.36   \n",
       "1     1   PAYMENT   1864.28  C1666544295        21249.0        19384.72   \n",
       "2     1  TRANSFER    181.00  C1305486145          181.0            0.00   \n",
       "3     1  CASH_OUT    181.00   C840083671          181.0            0.00   \n",
       "4     1   PAYMENT  11668.14  C2048537720        41554.0        29885.86   \n",
       "\n",
       "      nameDest  oldbalanceDest  newbalanceDest  isFraud  isFlaggedFraud  \n",
       "0  M1979787155             0.0             0.0        0               0  \n",
       "1  M2044282225             0.0             0.0        0               0  \n",
       "2   C553264065             0.0             0.0        1               0  \n",
       "3    C38997010         21182.0             0.0        1               0  \n",
       "4  M1230701703             0.0             0.0        0               0  "
      ]
     },
     "execution_count": 2,
     "metadata": {},
     "output_type": "execute_result"
    }
   ],
   "source": [
    "df=pd.read_csv(\"Fraud.csv\")\n",
    "df.head()"
   ]
  },
  {
   "cell_type": "code",
   "execution_count": 3,
   "id": "d832b393",
   "metadata": {},
   "outputs": [],
   "source": [
    "df=pd.get_dummies(df,columns=['type'])"
   ]
  },
  {
   "cell_type": "code",
   "execution_count": 4,
   "id": "358fc1ae",
   "metadata": {},
   "outputs": [],
   "source": [
    "df[\"type_CASH_IN\"]=df[\"type_CASH_IN\"].astype(int)\n",
    "df[\"type_CASH_OUT\"]=df[\"type_CASH_OUT\"].astype(int)\n",
    "df[\"type_DEBIT\"]=df[\"type_DEBIT\"].astype(int)\n",
    "df[\"type_PAYMENT\"]=df[\"type_PAYMENT\"].astype(int)\n",
    "df[\"type_TRANSFER\"]=df[\"type_TRANSFER\"].astype(int)"
   ]
  },
  {
   "cell_type": "code",
   "execution_count": 5,
   "id": "b7ea3945",
   "metadata": {
    "scrolled": true
   },
   "outputs": [
    {
     "data": {
      "text/html": [
       "<div>\n",
       "<style scoped>\n",
       "    .dataframe tbody tr th:only-of-type {\n",
       "        vertical-align: middle;\n",
       "    }\n",
       "\n",
       "    .dataframe tbody tr th {\n",
       "        vertical-align: top;\n",
       "    }\n",
       "\n",
       "    .dataframe thead th {\n",
       "        text-align: right;\n",
       "    }\n",
       "</style>\n",
       "<table border=\"1\" class=\"dataframe\">\n",
       "  <thead>\n",
       "    <tr style=\"text-align: right;\">\n",
       "      <th></th>\n",
       "      <th>step</th>\n",
       "      <th>amount</th>\n",
       "      <th>nameOrig</th>\n",
       "      <th>oldbalanceOrg</th>\n",
       "      <th>newbalanceOrig</th>\n",
       "      <th>nameDest</th>\n",
       "      <th>oldbalanceDest</th>\n",
       "      <th>newbalanceDest</th>\n",
       "      <th>isFraud</th>\n",
       "      <th>isFlaggedFraud</th>\n",
       "      <th>type_CASH_IN</th>\n",
       "      <th>type_CASH_OUT</th>\n",
       "      <th>type_DEBIT</th>\n",
       "      <th>type_PAYMENT</th>\n",
       "      <th>type_TRANSFER</th>\n",
       "    </tr>\n",
       "  </thead>\n",
       "  <tbody>\n",
       "    <tr>\n",
       "      <th>0</th>\n",
       "      <td>1</td>\n",
       "      <td>9839.64</td>\n",
       "      <td>C1231006815</td>\n",
       "      <td>170136.00</td>\n",
       "      <td>160296.36</td>\n",
       "      <td>M1979787155</td>\n",
       "      <td>0.00</td>\n",
       "      <td>0.00</td>\n",
       "      <td>0</td>\n",
       "      <td>0</td>\n",
       "      <td>0</td>\n",
       "      <td>0</td>\n",
       "      <td>0</td>\n",
       "      <td>1</td>\n",
       "      <td>0</td>\n",
       "    </tr>\n",
       "    <tr>\n",
       "      <th>1</th>\n",
       "      <td>1</td>\n",
       "      <td>1864.28</td>\n",
       "      <td>C1666544295</td>\n",
       "      <td>21249.00</td>\n",
       "      <td>19384.72</td>\n",
       "      <td>M2044282225</td>\n",
       "      <td>0.00</td>\n",
       "      <td>0.00</td>\n",
       "      <td>0</td>\n",
       "      <td>0</td>\n",
       "      <td>0</td>\n",
       "      <td>0</td>\n",
       "      <td>0</td>\n",
       "      <td>1</td>\n",
       "      <td>0</td>\n",
       "    </tr>\n",
       "    <tr>\n",
       "      <th>2</th>\n",
       "      <td>1</td>\n",
       "      <td>181.00</td>\n",
       "      <td>C1305486145</td>\n",
       "      <td>181.00</td>\n",
       "      <td>0.00</td>\n",
       "      <td>C553264065</td>\n",
       "      <td>0.00</td>\n",
       "      <td>0.00</td>\n",
       "      <td>1</td>\n",
       "      <td>0</td>\n",
       "      <td>0</td>\n",
       "      <td>0</td>\n",
       "      <td>0</td>\n",
       "      <td>0</td>\n",
       "      <td>1</td>\n",
       "    </tr>\n",
       "    <tr>\n",
       "      <th>3</th>\n",
       "      <td>1</td>\n",
       "      <td>181.00</td>\n",
       "      <td>C840083671</td>\n",
       "      <td>181.00</td>\n",
       "      <td>0.00</td>\n",
       "      <td>C38997010</td>\n",
       "      <td>21182.00</td>\n",
       "      <td>0.00</td>\n",
       "      <td>1</td>\n",
       "      <td>0</td>\n",
       "      <td>0</td>\n",
       "      <td>1</td>\n",
       "      <td>0</td>\n",
       "      <td>0</td>\n",
       "      <td>0</td>\n",
       "    </tr>\n",
       "    <tr>\n",
       "      <th>4</th>\n",
       "      <td>1</td>\n",
       "      <td>11668.14</td>\n",
       "      <td>C2048537720</td>\n",
       "      <td>41554.00</td>\n",
       "      <td>29885.86</td>\n",
       "      <td>M1230701703</td>\n",
       "      <td>0.00</td>\n",
       "      <td>0.00</td>\n",
       "      <td>0</td>\n",
       "      <td>0</td>\n",
       "      <td>0</td>\n",
       "      <td>0</td>\n",
       "      <td>0</td>\n",
       "      <td>1</td>\n",
       "      <td>0</td>\n",
       "    </tr>\n",
       "    <tr>\n",
       "      <th>...</th>\n",
       "      <td>...</td>\n",
       "      <td>...</td>\n",
       "      <td>...</td>\n",
       "      <td>...</td>\n",
       "      <td>...</td>\n",
       "      <td>...</td>\n",
       "      <td>...</td>\n",
       "      <td>...</td>\n",
       "      <td>...</td>\n",
       "      <td>...</td>\n",
       "      <td>...</td>\n",
       "      <td>...</td>\n",
       "      <td>...</td>\n",
       "      <td>...</td>\n",
       "      <td>...</td>\n",
       "    </tr>\n",
       "    <tr>\n",
       "      <th>6362615</th>\n",
       "      <td>743</td>\n",
       "      <td>339682.13</td>\n",
       "      <td>C786484425</td>\n",
       "      <td>339682.13</td>\n",
       "      <td>0.00</td>\n",
       "      <td>C776919290</td>\n",
       "      <td>0.00</td>\n",
       "      <td>339682.13</td>\n",
       "      <td>1</td>\n",
       "      <td>0</td>\n",
       "      <td>0</td>\n",
       "      <td>1</td>\n",
       "      <td>0</td>\n",
       "      <td>0</td>\n",
       "      <td>0</td>\n",
       "    </tr>\n",
       "    <tr>\n",
       "      <th>6362616</th>\n",
       "      <td>743</td>\n",
       "      <td>6311409.28</td>\n",
       "      <td>C1529008245</td>\n",
       "      <td>6311409.28</td>\n",
       "      <td>0.00</td>\n",
       "      <td>C1881841831</td>\n",
       "      <td>0.00</td>\n",
       "      <td>0.00</td>\n",
       "      <td>1</td>\n",
       "      <td>0</td>\n",
       "      <td>0</td>\n",
       "      <td>0</td>\n",
       "      <td>0</td>\n",
       "      <td>0</td>\n",
       "      <td>1</td>\n",
       "    </tr>\n",
       "    <tr>\n",
       "      <th>6362617</th>\n",
       "      <td>743</td>\n",
       "      <td>6311409.28</td>\n",
       "      <td>C1162922333</td>\n",
       "      <td>6311409.28</td>\n",
       "      <td>0.00</td>\n",
       "      <td>C1365125890</td>\n",
       "      <td>68488.84</td>\n",
       "      <td>6379898.11</td>\n",
       "      <td>1</td>\n",
       "      <td>0</td>\n",
       "      <td>0</td>\n",
       "      <td>1</td>\n",
       "      <td>0</td>\n",
       "      <td>0</td>\n",
       "      <td>0</td>\n",
       "    </tr>\n",
       "    <tr>\n",
       "      <th>6362618</th>\n",
       "      <td>743</td>\n",
       "      <td>850002.52</td>\n",
       "      <td>C1685995037</td>\n",
       "      <td>850002.52</td>\n",
       "      <td>0.00</td>\n",
       "      <td>C2080388513</td>\n",
       "      <td>0.00</td>\n",
       "      <td>0.00</td>\n",
       "      <td>1</td>\n",
       "      <td>0</td>\n",
       "      <td>0</td>\n",
       "      <td>0</td>\n",
       "      <td>0</td>\n",
       "      <td>0</td>\n",
       "      <td>1</td>\n",
       "    </tr>\n",
       "    <tr>\n",
       "      <th>6362619</th>\n",
       "      <td>743</td>\n",
       "      <td>850002.52</td>\n",
       "      <td>C1280323807</td>\n",
       "      <td>850002.52</td>\n",
       "      <td>0.00</td>\n",
       "      <td>C873221189</td>\n",
       "      <td>6510099.11</td>\n",
       "      <td>7360101.63</td>\n",
       "      <td>1</td>\n",
       "      <td>0</td>\n",
       "      <td>0</td>\n",
       "      <td>1</td>\n",
       "      <td>0</td>\n",
       "      <td>0</td>\n",
       "      <td>0</td>\n",
       "    </tr>\n",
       "  </tbody>\n",
       "</table>\n",
       "<p>6362620 rows × 15 columns</p>\n",
       "</div>"
      ],
      "text/plain": [
       "         step      amount     nameOrig  oldbalanceOrg  newbalanceOrig  \\\n",
       "0           1     9839.64  C1231006815      170136.00       160296.36   \n",
       "1           1     1864.28  C1666544295       21249.00        19384.72   \n",
       "2           1      181.00  C1305486145         181.00            0.00   \n",
       "3           1      181.00   C840083671         181.00            0.00   \n",
       "4           1    11668.14  C2048537720       41554.00        29885.86   \n",
       "...       ...         ...          ...            ...             ...   \n",
       "6362615   743   339682.13   C786484425      339682.13            0.00   \n",
       "6362616   743  6311409.28  C1529008245     6311409.28            0.00   \n",
       "6362617   743  6311409.28  C1162922333     6311409.28            0.00   \n",
       "6362618   743   850002.52  C1685995037      850002.52            0.00   \n",
       "6362619   743   850002.52  C1280323807      850002.52            0.00   \n",
       "\n",
       "            nameDest  oldbalanceDest  newbalanceDest  isFraud  isFlaggedFraud  \\\n",
       "0        M1979787155            0.00            0.00        0               0   \n",
       "1        M2044282225            0.00            0.00        0               0   \n",
       "2         C553264065            0.00            0.00        1               0   \n",
       "3          C38997010        21182.00            0.00        1               0   \n",
       "4        M1230701703            0.00            0.00        0               0   \n",
       "...              ...             ...             ...      ...             ...   \n",
       "6362615   C776919290            0.00       339682.13        1               0   \n",
       "6362616  C1881841831            0.00            0.00        1               0   \n",
       "6362617  C1365125890        68488.84      6379898.11        1               0   \n",
       "6362618  C2080388513            0.00            0.00        1               0   \n",
       "6362619   C873221189      6510099.11      7360101.63        1               0   \n",
       "\n",
       "         type_CASH_IN  type_CASH_OUT  type_DEBIT  type_PAYMENT  type_TRANSFER  \n",
       "0                   0              0           0             1              0  \n",
       "1                   0              0           0             1              0  \n",
       "2                   0              0           0             0              1  \n",
       "3                   0              1           0             0              0  \n",
       "4                   0              0           0             1              0  \n",
       "...               ...            ...         ...           ...            ...  \n",
       "6362615             0              1           0             0              0  \n",
       "6362616             0              0           0             0              1  \n",
       "6362617             0              1           0             0              0  \n",
       "6362618             0              0           0             0              1  \n",
       "6362619             0              1           0             0              0  \n",
       "\n",
       "[6362620 rows x 15 columns]"
      ]
     },
     "execution_count": 5,
     "metadata": {},
     "output_type": "execute_result"
    }
   ],
   "source": [
    "df"
   ]
  },
  {
   "cell_type": "code",
   "execution_count": 6,
   "id": "692c6123",
   "metadata": {},
   "outputs": [
    {
     "data": {
      "text/plain": [
       "6362620"
      ]
     },
     "execution_count": 6,
     "metadata": {},
     "output_type": "execute_result"
    }
   ],
   "source": [
    "df['type_TRANSFER'].value_counts().sum()"
   ]
  },
  {
   "cell_type": "code",
   "execution_count": 7,
   "id": "11c0ca7b",
   "metadata": {},
   "outputs": [
    {
     "data": {
      "text/plain": [
       "(6362620, 15)"
      ]
     },
     "execution_count": 7,
     "metadata": {},
     "output_type": "execute_result"
    }
   ],
   "source": [
    "df.shape"
   ]
  },
  {
   "cell_type": "code",
   "execution_count": 8,
   "id": "30110dbe",
   "metadata": {},
   "outputs": [],
   "source": [
    "df = df.drop(columns=['nameOrig', 'nameDest'])\n"
   ]
  },
  {
   "cell_type": "code",
   "execution_count": 9,
   "id": "6f59dfa9",
   "metadata": {
    "scrolled": true
   },
   "outputs": [
    {
     "name": "stdout",
     "output_type": "stream",
     "text": [
      "<class 'pandas.core.frame.DataFrame'>\n",
      "RangeIndex: 6362620 entries, 0 to 6362619\n",
      "Data columns (total 13 columns):\n",
      " #   Column          Dtype  \n",
      "---  ------          -----  \n",
      " 0   step            int64  \n",
      " 1   amount          float64\n",
      " 2   oldbalanceOrg   float64\n",
      " 3   newbalanceOrig  float64\n",
      " 4   oldbalanceDest  float64\n",
      " 5   newbalanceDest  float64\n",
      " 6   isFraud         int64  \n",
      " 7   isFlaggedFraud  int64  \n",
      " 8   type_CASH_IN    int32  \n",
      " 9   type_CASH_OUT   int32  \n",
      " 10  type_DEBIT      int32  \n",
      " 11  type_PAYMENT    int32  \n",
      " 12  type_TRANSFER   int32  \n",
      "dtypes: float64(5), int32(5), int64(3)\n",
      "memory usage: 509.7 MB\n"
     ]
    }
   ],
   "source": [
    "df.info()"
   ]
  },
  {
   "cell_type": "markdown",
   "id": "093abf2c",
   "metadata": {},
   "source": [
    "# Q1.Data cleaning including missing values, outliers and multi-collinearity"
   ]
  },
  {
   "cell_type": "code",
   "execution_count": 10,
   "id": "f5289a2b",
   "metadata": {},
   "outputs": [
    {
     "data": {
      "text/plain": [
       "step              0\n",
       "amount            0\n",
       "oldbalanceOrg     0\n",
       "newbalanceOrig    0\n",
       "oldbalanceDest    0\n",
       "newbalanceDest    0\n",
       "isFraud           0\n",
       "isFlaggedFraud    0\n",
       "type_CASH_IN      0\n",
       "type_CASH_OUT     0\n",
       "type_DEBIT        0\n",
       "type_PAYMENT      0\n",
       "type_TRANSFER     0\n",
       "dtype: int64"
      ]
     },
     "execution_count": 10,
     "metadata": {},
     "output_type": "execute_result"
    }
   ],
   "source": [
    "df.isnull().sum()"
   ]
  },
  {
   "cell_type": "code",
   "execution_count": 11,
   "id": "88c68797",
   "metadata": {},
   "outputs": [
    {
     "data": {
      "text/plain": [
       "Index(['step', 'amount', 'oldbalanceOrg', 'newbalanceOrig', 'oldbalanceDest',\n",
       "       'newbalanceDest', 'isFraud', 'isFlaggedFraud', 'type_CASH_IN',\n",
       "       'type_CASH_OUT', 'type_DEBIT', 'type_PAYMENT', 'type_TRANSFER'],\n",
       "      dtype='object')"
      ]
     },
     "execution_count": 11,
     "metadata": {},
     "output_type": "execute_result"
    }
   ],
   "source": [
    "df.columns"
   ]
  },
  {
   "cell_type": "code",
   "execution_count": 12,
   "id": "5138649c",
   "metadata": {},
   "outputs": [
    {
     "data": {
      "text/plain": [
       "step                  743\n",
       "amount            5316900\n",
       "oldbalanceOrg     1845844\n",
       "newbalanceOrig    2682586\n",
       "oldbalanceDest    3614697\n",
       "newbalanceDest    3555499\n",
       "isFraud                 2\n",
       "isFlaggedFraud          2\n",
       "type_CASH_IN            2\n",
       "type_CASH_OUT           2\n",
       "type_DEBIT              2\n",
       "type_PAYMENT            2\n",
       "type_TRANSFER           2\n",
       "dtype: int64"
      ]
     },
     "execution_count": 12,
     "metadata": {},
     "output_type": "execute_result"
    }
   ],
   "source": [
    "df.nunique()"
   ]
  },
  {
   "cell_type": "code",
   "execution_count": 13,
   "id": "fe3af091",
   "metadata": {},
   "outputs": [],
   "source": [
    "df=df.dropna()"
   ]
  },
  {
   "cell_type": "code",
   "execution_count": 14,
   "id": "fc37dc81",
   "metadata": {},
   "outputs": [],
   "source": [
    "Q1=df.quantile(0.25)\n",
    "Q2=df.quantile(0.50)\n",
    "Q3=df.quantile(0.75)\n",
    "IQR=Q3-Q1\n",
    "outliers=df[(df<(Q1-1.5*IQR)) | (df>(Q3+1.5*IQR))]\n"
   ]
  },
  {
   "cell_type": "code",
   "execution_count": 15,
   "id": "e253de70",
   "metadata": {},
   "outputs": [
    {
     "data": {
      "text/plain": [
       "6113180"
      ]
     },
     "execution_count": 15,
     "metadata": {},
     "output_type": "execute_result"
    }
   ],
   "source": [
    "outliers.count().sum()"
   ]
  },
  {
   "cell_type": "code",
   "execution_count": 16,
   "id": "e6e05190",
   "metadata": {},
   "outputs": [],
   "source": [
    " df=df.fillna(df.mean(),inplace=True)"
   ]
  },
  {
   "cell_type": "code",
   "execution_count": 17,
   "id": "1e600ad4",
   "metadata": {},
   "outputs": [
    {
     "name": "stdout",
     "output_type": "stream",
     "text": [
      "<class 'pandas.core.frame.DataFrame'>\n",
      "RangeIndex: 6362620 entries, 0 to 6362619\n",
      "Data columns (total 13 columns):\n",
      " #   Column          Dtype  \n",
      "---  ------          -----  \n",
      " 0   step            int64  \n",
      " 1   amount          float64\n",
      " 2   oldbalanceOrg   float64\n",
      " 3   newbalanceOrig  float64\n",
      " 4   oldbalanceDest  float64\n",
      " 5   newbalanceDest  float64\n",
      " 6   isFraud         int64  \n",
      " 7   isFlaggedFraud  int64  \n",
      " 8   type_CASH_IN    int32  \n",
      " 9   type_CASH_OUT   int32  \n",
      " 10  type_DEBIT      int32  \n",
      " 11  type_PAYMENT    int32  \n",
      " 12  type_TRANSFER   int32  \n",
      "dtypes: float64(5), int32(5), int64(3)\n",
      "memory usage: 509.7 MB\n"
     ]
    }
   ],
   "source": [
    "df.info()"
   ]
  },
  {
   "cell_type": "code",
   "execution_count": 18,
   "id": "7a3ce577",
   "metadata": {},
   "outputs": [],
   "source": [
    "df=df.iloc[0:100000,:]"
   ]
  },
  {
   "cell_type": "code",
   "execution_count": 19,
   "id": "5d694210",
   "metadata": {},
   "outputs": [
    {
     "data": {
      "text/plain": [
       "(100000, 13)"
      ]
     },
     "execution_count": 19,
     "metadata": {},
     "output_type": "execute_result"
    }
   ],
   "source": [
    "df.shape"
   ]
  },
  {
   "cell_type": "markdown",
   "id": "3620110b",
   "metadata": {},
   "source": [
    "# Q2. Describe your fraud detection model in elaboration. "
   ]
  },
  {
   "cell_type": "markdown",
   "id": "633589e6",
   "metadata": {},
   "source": [
    "Here I have use two different types of algorithms, as my system is little bit slower thus From the dataset I chose only 100000 rows\n",
    "to work with.\n",
    "First, I used Random forest classifier algorithm, which gave an accuracy score of about 99.9%.\n",
    "second, I have used Gradient boosting algorithm which gave an accuracy score of about 99.8%.\n",
    "\n",
    "By twisting variable like estimators or train/test size, random state the score can be even improved and more accurate."
   ]
  },
  {
   "cell_type": "code",
   "execution_count": 20,
   "id": "f1267ee1",
   "metadata": {},
   "outputs": [
    {
     "name": "stderr",
     "output_type": "stream",
     "text": [
      "C:\\Users\\Ayan\\anaconda3\\lib\\site-packages\\scipy\\__init__.py:155: UserWarning: A NumPy version >=1.18.5 and <1.25.0 is required for this version of SciPy (detected version 1.26.4\n",
      "  warnings.warn(f\"A NumPy version >={np_minversion} and <{np_maxversion}\"\n"
     ]
    }
   ],
   "source": [
    "from sklearn.model_selection import train_test_split"
   ]
  },
  {
   "cell_type": "code",
   "execution_count": 21,
   "id": "df4ffc58",
   "metadata": {},
   "outputs": [],
   "source": [
    "x=df.drop([\"isFraud\"],axis=1)\n",
    "y=df['isFraud']"
   ]
  },
  {
   "cell_type": "code",
   "execution_count": 22,
   "id": "a866dd76",
   "metadata": {},
   "outputs": [],
   "source": [
    "x_train,x_test,y_train,y_test=train_test_split(x,y,test_size=0.3,random_state=10)"
   ]
  },
  {
   "cell_type": "code",
   "execution_count": 23,
   "id": "1ef041fd",
   "metadata": {},
   "outputs": [
    {
     "data": {
      "text/plain": [
       "70000"
      ]
     },
     "execution_count": 23,
     "metadata": {},
     "output_type": "execute_result"
    }
   ],
   "source": [
    "len(x_train)"
   ]
  },
  {
   "cell_type": "code",
   "execution_count": 24,
   "id": "7dacaabd",
   "metadata": {
    "scrolled": true
   },
   "outputs": [
    {
     "data": {
      "text/plain": [
       "70000"
      ]
     },
     "execution_count": 24,
     "metadata": {},
     "output_type": "execute_result"
    }
   ],
   "source": [
    "len(y_train)"
   ]
  },
  {
   "cell_type": "markdown",
   "id": "0c291ec0",
   "metadata": {},
   "source": [
    "# Q3. How did you select variables to be included in the model?"
   ]
  },
  {
   "cell_type": "markdown",
   "id": "b37129d0",
   "metadata": {},
   "source": [
    "I have use different variables by using feature exatraction and feature selection like I have dropped type, nameOrig and\n",
    "nameDest as they do not contain numerical values. Usinf get_dummies could be one way to use the column."
   ]
  },
  {
   "cell_type": "markdown",
   "id": "74bd8173",
   "metadata": {},
   "source": [
    "# Random Forest Classifier"
   ]
  },
  {
   "cell_type": "code",
   "execution_count": 25,
   "id": "c3c8775c",
   "metadata": {},
   "outputs": [],
   "source": [
    "from sklearn.ensemble import RandomForestClassifier"
   ]
  },
  {
   "cell_type": "code",
   "execution_count": 26,
   "id": "dfc2b5ef",
   "metadata": {},
   "outputs": [
    {
     "name": "stderr",
     "output_type": "stream",
     "text": [
      "C:\\Users\\Ayan\\anaconda3\\lib\\site-packages\\sklearn\\utils\\validation.py:623: FutureWarning: is_sparse is deprecated and will be removed in a future version. Check `isinstance(dtype, pd.SparseDtype)` instead.\n",
      "  if not hasattr(array, \"sparse\") and array.dtypes.apply(is_sparse).any():\n"
     ]
    },
    {
     "data": {
      "text/plain": [
       "RandomForestClassifier(random_state=10)"
      ]
     },
     "execution_count": 26,
     "metadata": {},
     "output_type": "execute_result"
    }
   ],
   "source": [
    "RFC=RandomForestClassifier(n_estimators=100,random_state=10)\n",
    "RFC.fit(x_train,y_train)"
   ]
  },
  {
   "cell_type": "markdown",
   "id": "62e902db",
   "metadata": {},
   "source": [
    "# Gradient Boosting Classifier"
   ]
  },
  {
   "cell_type": "code",
   "execution_count": 27,
   "id": "79f5e80a",
   "metadata": {},
   "outputs": [],
   "source": [
    "from sklearn.ensemble import GradientBoostingClassifier"
   ]
  },
  {
   "cell_type": "code",
   "execution_count": 28,
   "id": "9370e833",
   "metadata": {},
   "outputs": [],
   "source": [
    "GBC=GradientBoostingClassifier(n_estimators=100,random_state=10)"
   ]
  },
  {
   "cell_type": "code",
   "execution_count": 29,
   "id": "2e78459d",
   "metadata": {
    "scrolled": true
   },
   "outputs": [
    {
     "name": "stderr",
     "output_type": "stream",
     "text": [
      "C:\\Users\\Ayan\\anaconda3\\lib\\site-packages\\sklearn\\utils\\validation.py:623: FutureWarning: is_sparse is deprecated and will be removed in a future version. Check `isinstance(dtype, pd.SparseDtype)` instead.\n",
      "  if not hasattr(array, \"sparse\") and array.dtypes.apply(is_sparse).any():\n"
     ]
    },
    {
     "data": {
      "text/plain": [
       "GradientBoostingClassifier(random_state=10)"
      ]
     },
     "execution_count": 29,
     "metadata": {},
     "output_type": "execute_result"
    }
   ],
   "source": [
    "GBC.fit(x_train,y_train)"
   ]
  },
  {
   "cell_type": "markdown",
   "id": "9cce79b7",
   "metadata": {},
   "source": [
    "# Q4.Demonstrate the performance of the model by using best set of tools. "
   ]
  },
  {
   "cell_type": "markdown",
   "id": "ede73082",
   "metadata": {},
   "source": [
    "# Random Forest Score"
   ]
  },
  {
   "cell_type": "code",
   "execution_count": 30,
   "id": "b7e6a766",
   "metadata": {},
   "outputs": [],
   "source": [
    "from sklearn.metrics import classification_report,confusion_matrix,accuracy_score,roc_auc_score"
   ]
  },
  {
   "cell_type": "code",
   "execution_count": 31,
   "id": "73942c15",
   "metadata": {},
   "outputs": [
    {
     "name": "stderr",
     "output_type": "stream",
     "text": [
      "C:\\Users\\Ayan\\anaconda3\\lib\\site-packages\\sklearn\\utils\\validation.py:623: FutureWarning: is_sparse is deprecated and will be removed in a future version. Check `isinstance(dtype, pd.SparseDtype)` instead.\n",
      "  if not hasattr(array, \"sparse\") and array.dtypes.apply(is_sparse).any():\n"
     ]
    },
    {
     "data": {
      "text/plain": [
       "array([0, 0, 0, ..., 0, 0, 0], dtype=int64)"
      ]
     },
     "execution_count": 31,
     "metadata": {},
     "output_type": "execute_result"
    }
   ],
   "source": [
    "rfcpred=RFC.predict(x_test)\n",
    "rfcpred"
   ]
  },
  {
   "cell_type": "code",
   "execution_count": 32,
   "id": "785240ea",
   "metadata": {},
   "outputs": [
    {
     "name": "stdout",
     "output_type": "stream",
     "text": [
      "[[29959     3]\n",
      " [   22    16]]\n",
      "              precision    recall  f1-score   support\n",
      "\n",
      "           0       1.00      1.00      1.00     29962\n",
      "           1       0.84      0.42      0.56        38\n",
      "\n",
      "    accuracy                           1.00     30000\n",
      "   macro avg       0.92      0.71      0.78     30000\n",
      "weighted avg       1.00      1.00      1.00     30000\n",
      "\n"
     ]
    }
   ],
   "source": [
    "print(confusion_matrix(y_test, rfcpred))\n",
    "print(classification_report(y_test, rfcpred))\n"
   ]
  },
  {
   "cell_type": "code",
   "execution_count": 33,
   "id": "83c0defd",
   "metadata": {},
   "outputs": [
    {
     "name": "stdout",
     "output_type": "stream",
     "text": [
      "0.9991666666666666\n"
     ]
    }
   ],
   "source": [
    "print(accuracy_score(y_test, rfcpred))\n"
   ]
  },
  {
   "cell_type": "code",
   "execution_count": 34,
   "id": "5411cd5a",
   "metadata": {
    "scrolled": true
   },
   "outputs": [
    {
     "name": "stdout",
     "output_type": "stream",
     "text": [
      "0.7104762523758164\n"
     ]
    }
   ],
   "source": [
    "print(roc_auc_score(y_test, rfcpred))"
   ]
  },
  {
   "cell_type": "markdown",
   "id": "14ed58fd",
   "metadata": {},
   "source": [
    "# Gradient Boosting Score"
   ]
  },
  {
   "cell_type": "code",
   "execution_count": 35,
   "id": "b8f66ec9",
   "metadata": {},
   "outputs": [
    {
     "name": "stderr",
     "output_type": "stream",
     "text": [
      "C:\\Users\\Ayan\\anaconda3\\lib\\site-packages\\sklearn\\utils\\validation.py:623: FutureWarning: is_sparse is deprecated and will be removed in a future version. Check `isinstance(dtype, pd.SparseDtype)` instead.\n",
      "  if not hasattr(array, \"sparse\") and array.dtypes.apply(is_sparse).any():\n"
     ]
    },
    {
     "data": {
      "text/plain": [
       "array([0, 0, 0, ..., 0, 0, 0], dtype=int64)"
      ]
     },
     "execution_count": 35,
     "metadata": {},
     "output_type": "execute_result"
    }
   ],
   "source": [
    "GBCpred=GBC.predict(x_test)\n",
    "GBCpred"
   ]
  },
  {
   "cell_type": "code",
   "execution_count": 36,
   "id": "dbbf7f8b",
   "metadata": {},
   "outputs": [
    {
     "name": "stdout",
     "output_type": "stream",
     "text": [
      "[[29954     8]\n",
      " [   29     9]]\n",
      "              precision    recall  f1-score   support\n",
      "\n",
      "           0       1.00      1.00      1.00     29962\n",
      "           1       0.53      0.24      0.33        38\n",
      "\n",
      "    accuracy                           1.00     30000\n",
      "   macro avg       0.76      0.62      0.66     30000\n",
      "weighted avg       1.00      1.00      1.00     30000\n",
      "\n"
     ]
    }
   ],
   "source": [
    "print(confusion_matrix(y_test, GBCpred))\n",
    "print(classification_report(y_test, GBCpred))\n"
   ]
  },
  {
   "cell_type": "code",
   "execution_count": 37,
   "id": "0f63bd3d",
   "metadata": {},
   "outputs": [
    {
     "name": "stdout",
     "output_type": "stream",
     "text": [
      "0.9987666666666667\n"
     ]
    }
   ],
   "source": [
    "print(accuracy_score(y_test, GBCpred))\n"
   ]
  },
  {
   "cell_type": "code",
   "execution_count": 38,
   "id": "d498f99a",
   "metadata": {},
   "outputs": [
    {
     "name": "stdout",
     "output_type": "stream",
     "text": [
      "0.6182875501951595\n"
     ]
    }
   ],
   "source": [
    "print(roc_auc_score(y_test, GBCpred))"
   ]
  },
  {
   "cell_type": "markdown",
   "id": "5268a67f",
   "metadata": {},
   "source": [
    "# Q5. What are the key factors that predict fraudulent customer? \n"
   ]
  },
  {
   "cell_type": "markdown",
   "id": "5d58e40a",
   "metadata": {},
   "source": [
    "Key factors that predict fraudulent customer are based on the features that we have used so far, those includes type of payment,\n",
    "amount of balance deduction, sudden change in amount etc."
   ]
  },
  {
   "cell_type": "markdown",
   "id": "398c15af",
   "metadata": {},
   "source": [
    "# Q6. Do these factors make sense? If yes, How? If not, How not? \n"
   ]
  },
  {
   "cell_type": "markdown",
   "id": "8ca9e1dc",
   "metadata": {},
   "source": [
    "Yes, these factors are very much realated to the fraud system, as it shows how the payment was made if it was in a fraud way or\n",
    "unknown like hack account. It can also relate if the bank account balance suddenly becomes zero or if the amount is huge or more\n",
    "than 200000"
   ]
  },
  {
   "cell_type": "markdown",
   "id": "68843dbf",
   "metadata": {},
   "source": [
    "# Q7. What kind of prevention should be adopted while company update its infrastructure?\n"
   ]
  },
  {
   "cell_type": "markdown",
   "id": "94bde348",
   "metadata": {},
   "source": [
    "These are the some prevention that company must take:\n",
    "1. Regular or frequent update policy\n",
    "2. Decentralized/distributed system to store data in multiple places.\n",
    "3. Strong authentication system\n",
    "4. Shut down the distributed network completely while updating as it may become vulnerable for some attackers at that time."
   ]
  },
  {
   "cell_type": "markdown",
   "id": "53b05345",
   "metadata": {},
   "source": [
    "# Q8. Assuming these actions have been implemented, how would you determine if they work?"
   ]
  },
  {
   "cell_type": "markdown",
   "id": "421f2925",
   "metadata": {},
   "source": [
    "1. Compare and calculate the number of fraudulent made before and after implementing.\n",
    "2. Work on update policy , gain more data to improve the algorithm even more.\n",
    "3. Regular customer feedback matters most and we get to know if our algoorithm is working properly or not."
   ]
  }
 ],
 "metadata": {
  "kernelspec": {
   "display_name": "Python 3 (ipykernel)",
   "language": "python",
   "name": "python3"
  },
  "language_info": {
   "codemirror_mode": {
    "name": "ipython",
    "version": 3
   },
   "file_extension": ".py",
   "mimetype": "text/x-python",
   "name": "python",
   "nbconvert_exporter": "python",
   "pygments_lexer": "ipython3",
   "version": "3.9.13"
  }
 },
 "nbformat": 4,
 "nbformat_minor": 5
}
